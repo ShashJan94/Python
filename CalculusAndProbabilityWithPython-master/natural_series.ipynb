{
 "cells": [
  {
   "cell_type": "markdown",
   "id": "75889ee6-939f-493e-b25a-9a22bdd9efca",
   "metadata": {},
   "source": [
    "<h1>Algorithm Examples</h1>"
   ]
  },
  {
   "cell_type": "code",
   "execution_count": 14,
   "id": "b1f28c9e-0b4a-4ee5-be69-d38971399c16",
   "metadata": {},
   "outputs": [],
   "source": [
    "def findMax1(a,b,c):\n",
    "    if a>b and a>c:\n",
    "        return a\n",
    "    elif b>a and b>c:\n",
    "        return b\n",
    "    else:\n",
    "        return c\n",
    "def findMax2(a,b,c):\n",
    "    max = a\n",
    "    if b>max:\n",
    "        max=b\n",
    "    if c>max:\n",
    "        max =c\n",
    "\n",
    "    return max\n",
    "def findMax3(a,b,c):\n",
    "    X=[a,b,c]\n",
    "    max = a\n",
    "    for i in range(len(X)):\n",
    "        if X[i]>max:\n",
    "            max=X[i]\n",
    "    return max\n",
    "        "
   ]
  },
  {
   "cell_type": "code",
   "execution_count": 7,
   "id": "b514061e-eae5-4164-9952-d4d63e0735cd",
   "metadata": {},
   "outputs": [
    {
     "data": {
      "text/plain": [
       "5"
      ]
     },
     "execution_count": 7,
     "metadata": {},
     "output_type": "execute_result"
    }
   ],
   "source": [
    "findMax1(2,5,5)"
   ]
  },
  {
   "cell_type": "code",
   "execution_count": 8,
   "id": "d3d95a6d-74fe-461e-9612-30d215054f1b",
   "metadata": {},
   "outputs": [
    {
     "data": {
      "text/plain": [
       "6"
      ]
     },
     "execution_count": 8,
     "metadata": {},
     "output_type": "execute_result"
    }
   ],
   "source": [
    "findMax2(2,6,6)"
   ]
  },
  {
   "cell_type": "code",
   "execution_count": 12,
   "id": "a00dc083-711f-475d-8866-9f09042dde4d",
   "metadata": {},
   "outputs": [
    {
     "data": {
      "text/plain": [
       "6"
      ]
     },
     "execution_count": 12,
     "metadata": {},
     "output_type": "execute_result"
    }
   ],
   "source": [
    "findMax3(6,3,5)"
   ]
  },
  {
   "cell_type": "markdown",
   "id": "538b2dc3-9398-4ee9-b00a-bfaffaa1546e",
   "metadata": {},
   "source": [
    "<h1 style=\"color:Cyan;\"> Fibonacci Series & Arithmatic Series in Python</h1>"
   ]
  },
  {
   "cell_type": "code",
   "execution_count": 35,
   "id": "110733ce-4248-4090-8edf-d0bace8a6742",
   "metadata": {},
   "outputs": [
    {
     "name": "stdout",
     "output_type": "stream",
     "text": [
      "0 1 1 2 3 5 8\n",
      "0 5 10 15 20 25 30 35 40 45\n"
     ]
    }
   ],
   "source": [
    "class Progression:\n",
    "    def __init__(self,start=0):\n",
    "        self._current=start\n",
    "    def _advance(self):\n",
    "        self._current=+1\n",
    "    def __next__ (self):\n",
    "        if self._current is None:\n",
    "            raise StopIteration()\n",
    "        else:\n",
    "            answer = self._current\n",
    "            self._advance()\n",
    "            return answer\n",
    "    def __iter__(self):\n",
    "        return self\n",
    "    def print_progression(self,n):\n",
    "        print(' '.join(str(next(self)) for i in range(n)))\n",
    "class ArithmaticProgression(Progression):\n",
    "    def __init__ (self, increment=1, start=0):\n",
    "        super().__init__(start) # initialize base class\n",
    "        self._increment =increment\n",
    "\n",
    "    def _advance(self): # override inherited version\n",
    "         self._current+= self._increment\n",
    "            \n",
    "class FibonacciProgression(Progression):\n",
    "    def __init__(self,first=0,second=1):\n",
    "        super().__init__(first)\n",
    "        self._prev =second-first\n",
    "    def _advance(self):\n",
    "        self._prev,self._current = self._current,self._prev+self._current\n",
    "    \n",
    "if __name__==\"__main__\":\n",
    "    expand = FibonacciProgression()\n",
    "    expand.print_progression(7)\n",
    "    ex2=ArithmaticProgression(5,0)\n",
    "    ex2.print_progression(10)"
   ]
  },
  {
   "cell_type": "code",
   "execution_count": null,
   "id": "48029bc2-2a60-4e76-8828-b98d4f02e997",
   "metadata": {},
   "outputs": [],
   "source": []
  }
 ],
 "metadata": {
  "kernelspec": {
   "display_name": "Python 3 (ipykernel)",
   "language": "python",
   "name": "python3"
  },
  "language_info": {
   "codemirror_mode": {
    "name": "ipython",
    "version": 3
   },
   "file_extension": ".py",
   "mimetype": "text/x-python",
   "name": "python",
   "nbconvert_exporter": "python",
   "pygments_lexer": "ipython3",
   "version": "3.9.7"
  }
 },
 "nbformat": 4,
 "nbformat_minor": 5
}
