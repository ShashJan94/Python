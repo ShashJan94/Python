{
 "cells": [
  {
   "cell_type": "code",
   "execution_count": 1,
   "id": "0548adb8-8eac-48ad-9a8c-42e9e6aaca51",
   "metadata": {},
   "outputs": [],
   "source": [
    "import numpy as np\n",
    "import matplotlib.pyplot as plt\n"
   ]
  },
  {
   "cell_type": "code",
   "execution_count": 2,
   "id": "cd034e52-955a-4858-b2ae-9359e7616377",
   "metadata": {},
   "outputs": [],
   "source": [
    "def find_hypontuse(p1,p2):\n",
    "    p3 = round((p1**2+p2**2)**0.5,8)\n",
    "    return p3"
   ]
  },
  {
   "cell_type": "code",
   "execution_count": 3,
   "id": "b58100ee-fd5e-4bf1-a84a-9d947629504a",
   "metadata": {},
   "outputs": [],
   "source": [
    "def find_trig(opposite,hypontuse,adjancent):\n",
    "    return opposite/hypontuse,adjancent/hypontuse,adjancent/opposite"
   ]
  },
  {
   "cell_type": "code",
   "execution_count": 4,
   "id": "c978a4a1-e622-4226-95c7-78243672175c",
   "metadata": {},
   "outputs": [],
   "source": [
    "def plot_triangle(p1,p2,lw=5):\n",
    "    x=[0,p1,0]\n",
    "    y=[0,0,p2]\n",
    "    n=['0','p1','p2']\n",
    "    fig,ax = plt.subplots(figsize=(p1,p2))\n",
    "    ax.scatter(x,y,s=400,c='#09A849',alpha =0.4)\n",
    "    ax.plot([0,p1],[0,0],lw=lw,color='r')\n",
    "    ax.plot([0,0],[0,p2],lw=lw,color='b')\n",
    "    ax.plot([0,p1],[p2,0],lw=lw,color='y')\n",
    "    \n",
    "    for i,txt in enumerate(n):\n",
    "        ax.annotate(txt,(x[i],y[i]),va='center')\n",
    "    \n",
    "    "
   ]
  },
  {
   "cell_type": "code",
   "execution_count": 5,
   "id": "4b6299db-71ad-45a2-8524-f9b4c434892f",
   "metadata": {},
   "outputs": [
    {
     "data": {
      "image/png": "[encoded data removed]",
      "text/plain": [
       "<Figure size 288x360 with 1 Axes>"
      ]
     },
     "metadata": {
      "needs_background": "light"
     },
     "output_type": "display_data"
    }
   ],
   "source": [
    "plot_triangle(4,5)"
   ]
  },
  {
   "cell_type": "markdown",
   "id": "13e8d85d-cb32-4e16-9b49-07cd5eca75a1",
   "metadata": {},
   "source": [
    "#Vector Visualization\n"
   ]
  },
  {
   "cell_type": "code",
   "execution_count": 10,
   "id": "f0d178ec-6635-429b-8e48-ea3411af8f36",
   "metadata": {},
   "outputs": [],
   "source": [
    "def plot_vectors(vec1,vec2,isSum=False):\n",
    "    label1,label2,label3= 'A','B','A+B'\n",
    "    orig =[0.0,0.0]\n",
    "    ax = plt.axes()    \n",
    "    ax.annotate(label1, [vec1[0]+0.5,vec1[1]+0.5] )         \n",
    "    ax.annotate(label2, [vec2[0]+0.5,vec2[1]+0.5] )    \n",
    "    if isSum:         \n",
    "        vec3 = [vec1[0]+vec2[0], vec1[1]+vec2[1]]             # if isSum=True calculate the sum of the two vectors        \n",
    "        ax.annotate(label3, [vec3[0]+0.5,vec3[1]+0.5] )        \n",
    "    ax.arrow(*orig, *vec1, head_width=0.4, head_length=0.65)    \n",
    "    ax.arrow(*orig, *vec2, head_width=0.4, head_length=0.65,ec='blue')    \n",
    "    if isSum:       \n",
    "        ax.arrow(*orig, *vec3, head_width=0.2,head_length=0.25, ec='yellow')        # plot the vector sum as well            \n",
    "    plt.grid()    \n",
    "    e=3     # shift limits by e for better visibility    \n",
    "    plt.xlim(min(vec1[0],vec2[0],0)-e, max(vec1[0],vec2[0],0)+e)    \n",
    "    plt.ylim(min(vec1[1],vec2[1],0)-e, max(vec1[1],vec2[1],0)+e)    \n",
    "    plt.title('Vector sum',fontsize=14)\n",
    "    plt.show()\n",
    "    plt.close()\n",
    "    \n",
    "    "
   ]
  },
  {
   "cell_type": "code",
   "execution_count": 8,
   "id": "68194e63-bdf8-4fab-92a5-9b0b5ed109bb",
   "metadata": {},
   "outputs": [],
   "source": [
    "def find_angle(vec1, vec2, isRadians = True, isSum = False):\n",
    "    vec1 = np.array(vec1)\n",
    "    vec2 = np.array(vec2)\n",
    "   \n",
    "    product12 = np.dot(vec1,vec2)\n",
    "    cos_theta = product12/(np.dot(vec1,vec1)**0.5 * \\\n",
    "                           np.dot(vec2,vec2)**0.5 )\n",
    "    cos_theta = round(cos_theta, 12)\n",
    "    theta = np.arccos(cos_theta)\n",
    "   \n",
    "    plot_vectors(vec1, vec2, isSum=isSum)\n",
    "    if isRadians:\n",
    "        return theta\n",
    "    else:\n",
    "        return 180*theta/np.pi\n"
   ]
  },
  {
   "cell_type": "code",
   "execution_count": 12,
   "id": "f85096b1-63c2-4469-8f40-71756ca4cb27",
   "metadata": {},
   "outputs": [
    {
     "data": {
      "image/png": "[encoded data removed]",
      "text/plain": [
       "<Figure size 432x288 with 1 Axes>"
      ]
     },
     "metadata": {
      "needs_background": "light"
     },
     "output_type": "display_data"
    },
    {
     "data": {
      "text/plain": [
       "156.50143432401413"
      ]
     },
     "execution_count": 12,
     "metadata": {},
     "output_type": "execute_result"
    }
   ],
   "source": [
    "ve1=[1,6]\n",
    "ve2 =[2,-8]\n",
    "find_angle(ve1,ve2,isRadians=False,isSum=True)"
   ]
  },
  {
   "cell_type": "code",
   "execution_count": 13,
   "id": "c419c670-7ddf-4eee-90d0-800341a8bb31",
   "metadata": {},
   "outputs": [],
   "source": [
    "def vec_type(theta):\n",
    "    if theta ==0.0:\n",
    "        print (\"The vector is co-linear\")\n",
    "    elif theta ==90.00:\n",
    "        print(\"The vector is orthogonal\")\n",
    "    elif theta ==180.00:\n",
    "        print(\"The vector is opposite-linear\")\n",
    "    else:\n",
    "        print(\"The vector is normal\")\n",
    "    "
   ]
  },
  {
   "cell_type": "code",
   "execution_count": null,
   "id": "2f6b19a0-1290-429f-8cba-2f86836c38e4",
   "metadata": {},
   "outputs": [],
   "source": []
  }
 ],
 "metadata": {
  "kernelspec": {
   "display_name": "Python 3 (ipykernel)",
   "language": "python",
   "name": "python3"
  },
  "language_info": {
   "codemirror_mode": {
    "name": "ipython",
    "version": 3
   },
   "file_extension": ".py",
   "mimetype": "text/x-python",
   "name": "python",
   "nbconvert_exporter": "python",
   "pygments_lexer": "ipython3",
   "version": "3.9.7"
  }
 },
 "nbformat": 4,
 "nbformat_minor": 5
}
