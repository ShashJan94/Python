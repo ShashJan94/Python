{
 "cells": [
  {
   "cell_type": "code",
   "execution_count": 1,
   "id": "23748649-def5-4a84-9145-b5df96a00c51",
   "metadata": {},
   "outputs": [],
   "source": [
    "import cv2 \n",
    "import matplotlib.pyplot as plt \n",
    "import os\n",
    "import numpy as np\n"
   ]
  },
  {
   "cell_type": "code",
   "execution_count": 10,
   "id": "981c7828-d3ad-4922-b750-c30b3da6c4c6",
   "metadata": {},
   "outputs": [],
   "source": [
    "def detect_face(img):\n",
    "        gray = cv2.cvtColor(img, cv2.COLOR_RGB2GRAY)\n",
    "        face_cascade = cv2.CascadeClassifier(cv2.data.haarcascades +'haarcascade_frontalface_alt.xml')\n",
    "        faces = face_cascade.detectMultiScale(gray,scaleFactor=1.2, minNeighbors=5)\n",
    "        print(faces[0])\n",
    "        if len(faces)==0:\n",
    "            return None,None\n",
    "        (x, y, w, h) = faces[0]\n",
    "        return gray[y:y+w, x:x+h], faces[0]"
   ]
  },
  {
   "cell_type": "code",
   "execution_count": 3,
   "id": "f0ad2f7c-021c-4dc2-80f0-b8f31c897b3d",
   "metadata": {},
   "outputs": [],
   "source": [
    "def prepare_training_data(data_folder_path):\n",
    "    dirs = os.listdir(data_folder_path)\n",
    "    print(dirs)\n",
    "    faces = []\n",
    "    labels = []\n",
    "    for dir_name in dirs:\n",
    "        if not dir_name.startswith(\"s\"):\n",
    "            continue\n",
    "        label = int(dir_name.replace(\"s\", \"\"))\n",
    "        subject_dir_path = data_folder_path + \"/\" + dir_name\n",
    "        print(subject_dir_path)\n",
    "        subject_images_names = os.listdir(subject_dir_path)\n",
    "        print(subject_images_names)\n",
    "        for image_name in subject_images_names:\n",
    "            image_path = subject_dir_path+'/'+image_name\n",
    "            print(image_path)\n",
    "            image = cv2.imread(image_path)\n",
    "            face, rect = detect_face(image)\n",
    "            if face is not None:\n",
    "                faces.append(face)\n",
    "                labels.append(label)\n",
    "    cv2.waitKey(0)\n",
    "    cv2.destroyAllWindows()\n",
    "    print(faces,labels)\n",
    "    return faces, labels"
   ]
  },
  {
   "cell_type": "code",
   "execution_count": 4,
   "id": "5d1008e6-0782-4886-894e-298ae443d780",
   "metadata": {},
   "outputs": [
    {
     "name": "stdout",
     "output_type": "stream",
     "text": [
      "['s1', 's2']\n",
      "resize_a/s1\n",
      "['A(1).jpeg', 'A(2).jpeg', 'A(3).jpeg', 'WhatsApp Image 2022-12-15 at 19.49.03.jpeg', 'WhatsApp Image 2022-12-15 at 19.49.09.jpeg', 'WhatsApp Image 2022-12-15 at 19.49.14.jpeg', 'WhatsApp Image 2022-12-15 at 19.49.19.jpeg']\n",
      "resize_a/s1/A(1).jpeg\n",
      "[411 203 575 575]\n",
      "resize_a/s1/A(2).jpeg\n",
      "[171 444 573 573]\n",
      "resize_a/s1/A(3).jpeg\n",
      "[270 280 695 695]\n",
      "resize_a/s1/WhatsApp Image 2022-12-15 at 19.49.03.jpeg\n",
      "[190 554 520 520]\n",
      "resize_a/s1/WhatsApp Image 2022-12-15 at 19.49.09.jpeg\n",
      "[180 601 536 536]\n",
      "resize_a/s1/WhatsApp Image 2022-12-15 at 19.49.14.jpeg\n",
      "[201 592 504 504]\n",
      "resize_a/s1/WhatsApp Image 2022-12-15 at 19.49.19.jpeg\n",
      "[198 649 428 428]\n",
      "resize_a/s2\n",
      "['WhatsApp Image 2023-01-08 at 23.22.41 (1).jpeg']\n",
      "resize_a/s2/WhatsApp Image 2023-01-08 at 23.22.41 (1).jpeg\n",
      "[ 74  82 167 167]\n",
      "[array([[15, 14, 14, ..., 11, 11, 10],\n",
      "       [15, 15, 14, ..., 14, 11, 10],\n",
      "       [16, 15, 14, ..., 15, 11, 10],\n",
      "       ...,\n",
      "       [20, 20, 18, ..., 33, 31, 31],\n",
      "       [15, 17, 19, ..., 31, 28, 29],\n",
      "       [19, 21, 23, ..., 31, 30, 31]], dtype=uint8), array([[111, 111, 112, ...,  86,  89,  91],\n",
      "       [113, 112, 113, ...,  87,  88,  90],\n",
      "       [115, 114, 114, ...,  89,  89,  89],\n",
      "       ...,\n",
      "       [243, 243, 243, ...,  37,  36,  36],\n",
      "       [243, 243, 243, ...,  44,  43,  43],\n",
      "       [243, 241, 240, ...,  49,  51,  52]], dtype=uint8), array([[ 20,  20,  23, ...,  59,  60,  61],\n",
      "       [ 21,  21,  23, ...,  59,  60,  61],\n",
      "       [ 21,  21,  23, ...,  59,  61,  62],\n",
      "       ...,\n",
      "       [ 42,  42,  39, ..., 106, 104, 101],\n",
      "       [ 43,  42,  38, ..., 105, 103, 101],\n",
      "       [ 38,  38,  34, ..., 104, 103, 100]], dtype=uint8), array([[ 69,  84,  99, ..., 129, 129, 129],\n",
      "       [ 68,  85,  96, ..., 129, 129, 129],\n",
      "       [ 65,  82,  91, ..., 129, 129, 129],\n",
      "       ...,\n",
      "       [ 55,  56,  58, ...,  24,  24,  24],\n",
      "       [ 51,  54,  58, ...,  23,  22,  21],\n",
      "       [ 51,  53,  56, ...,  23,  22,  21]], dtype=uint8), array([[ 91,  90,  91, ..., 131, 131, 130],\n",
      "       [ 91,  90,  90, ..., 131, 131, 130],\n",
      "       [ 87,  88,  89, ..., 131, 131, 130],\n",
      "       ...,\n",
      "       [ 59,  59,  59, ...,  25,  24,  24],\n",
      "       [ 60,  60,  60, ...,  25,  24,  24],\n",
      "       [ 60,  60,  60, ...,  26,  26,  27]], dtype=uint8), array([[ 69,  85,  96, ..., 128, 128, 130],\n",
      "       [ 67,  83,  96, ..., 128, 128, 130],\n",
      "       [ 66,  84,  98, ..., 128, 128, 130],\n",
      "       ...,\n",
      "       [ 48,  47,  46, ...,  18,  19,  22],\n",
      "       [ 50,  48,  46, ...,  19,  19,  20],\n",
      "       [ 55,  52,  49, ...,  19,  20,  20]], dtype=uint8), array([[140, 140, 140, ..., 158, 158, 158],\n",
      "       [140, 140, 140, ..., 158, 158, 158],\n",
      "       [140, 140, 140, ..., 158, 157, 157],\n",
      "       ...,\n",
      "       [126, 126, 131, ..., 222, 228, 226],\n",
      "       [125, 125, 121, ..., 220, 224, 223],\n",
      "       [125, 125, 116, ..., 228, 232, 231]], dtype=uint8), array([[255, 254, 255, ..., 254, 255, 255],\n",
      "       [255, 252, 251, ..., 252, 255, 255],\n",
      "       [255, 251, 248, ..., 248, 251, 255],\n",
      "       ...,\n",
      "       [255, 255, 241, ..., 255, 248, 255],\n",
      "       [255, 253, 252, ..., 248, 255, 255],\n",
      "       [251, 240, 255, ..., 227, 255, 255]], dtype=uint8)] [1, 1, 1, 1, 1, 1, 1, 2]\n"
     ]
    }
   ],
   "source": [
    "f2,l2 = prepare_training_data('resize_a')\n",
    "face_recognizer = cv2.face.LBPHFaceRecognizer_create()\n",
    "face_recognizer.train(f2, np.array(l2))"
   ]
  },
  {
   "cell_type": "code",
   "execution_count": 16,
   "id": "28d0c306-1392-4b8e-9eb4-031de143eca8",
   "metadata": {},
   "outputs": [
    {
     "name": "stdout",
     "output_type": "stream",
     "text": [
      "[406 200 578 578]\n",
      "Basset\n"
     ]
    }
   ],
   "source": [
    "subjects = [\"\",  \"Basset\", \"Sajjad_Salam\"]\n",
    "img = cv2.imread(\"resize_a/s1/A(1).jpeg\")\n",
    "face, rect = detect_face(img)\n",
    "label= face_recognizer.predict(face)[0]\n",
    "label_text = subjects[label] \n",
    "(x, y, w,  h)  = rect\n",
    "cv2.rectangle(img, (x,  y),  (x+w,  y+h), (0, 255,  0), 2)\n",
    "cv2.putText(img, label_text, (rect[0], rect[1]-5), cv2.FONT_HERSHEY_PLAIN,  1.5, (0, 255,  0), 2)\n",
    "print(label_text)\n"
   ]
  },
  {
   "cell_type": "code",
   "execution_count": null,
   "id": "1b7434e5-e5a0-4de2-be14-fb7590f7bfbb",
   "metadata": {},
   "outputs": [],
   "source": []
  }
 ],
 "metadata": {
  "kernelspec": {
   "display_name": "Python 3 (ipykernel)",
   "language": "python",
   "name": "python3"
  },
  "language_info": {
   "codemirror_mode": {
    "name": "ipython",
    "version": 3
   },
   "file_extension": ".py",
   "mimetype": "text/x-python",
   "name": "python",
   "nbconvert_exporter": "python",
   "pygments_lexer": "ipython3",
   "version": "3.9.7"
  }
 },
 "nbformat": 4,
 "nbformat_minor": 5
}
